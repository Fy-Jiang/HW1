{
 "cells": [
  {
   "cell_type": "code",
   "execution_count": 16,
   "metadata": {},
   "outputs": [],
   "source": [
    "#coding : UTF-8\r\n",
    "import os, jieba\r\n",
    "import numpy as np\r\n",
    "import matplotlib.pyplot as plt\r\n",
    "import math\r\n",
    "\r\n",
    "plt.rcParams['font.sans-serif']=['Microsoft JhengHei'] #用来正常显示中文标签\r\n",
    "plt.rcParams['axes.unicode_minus']=False #用来正常显示负号\r\n",
    "PATH = \"texts.txt\""
   ]
  },
  {
   "cell_type": "code",
   "execution_count": 17,
   "metadata": {},
   "outputs": [],
   "source": [
    "wordList = []  \r\n",
    "countList = []\r\n",
    "results = {}\r\n",
    "readlineCounter = 0\r\n",
    "totalAppear = 0\r\n",
    "items = 0\r\n",
    "def FrequencyAndTfIdf():\r\n",
    "    with open(file = PATH, mode = \"r\", encoding = \"UTF-8\") as file : \r\n",
    "        data = file.readline()\r\n",
    "        readlineCounter += 1\r\n",
    "        while data: \r\n",
    "            words = jieba.lcut(data)\r\n",
    "            for word in words:\r\n",
    "                if len(word)==1:\r\n",
    "                    continue\r\n",
    "                else:\r\n",
    "                    results[word] = results.get(word, 0)+1\r\n",
    "            data = file.readline()\r\n",
    "    items = list(results.items())\r\n",
    "    items.sort(key = lambda x : x[1], reverse=True)\r\n",
    "\r\n",
    "    for i in range(100):\r\n",
    "        word, count = items[i]\r\n",
    "        wordList.append(word)\r\n",
    "        countList.append(count)\r\n",
    "\r\n",
    "    yPos = np.arange(len(wordList))\r\n",
    "    plt.xticks(yPos, wordList)\r\n",
    "    plt.bar(wordList, countList)\r\n",
    "    plt.show()"
   ]
  },
  {
   "cell_type": "code",
   "execution_count": 18,
   "metadata": {},
   "outputs": [
    {
     "ename": "TypeError",
     "evalue": "'int' object is not subscriptable",
     "output_type": "error",
     "traceback": [
      "\u001b[1;31m---------------------------------------------------------------------------\u001b[0m",
      "\u001b[1;31mTypeError\u001b[0m                                 Traceback (most recent call last)",
      "\u001b[1;32m~\\AppData\\Local\\Temp/ipykernel_7112/3498759430.py\u001b[0m in \u001b[0;36m<module>\u001b[1;34m\u001b[0m\n\u001b[0;32m      1\u001b[0m \u001b[0mtotalVolcabulary\u001b[0m \u001b[1;33m=\u001b[0m \u001b[0mlen\u001b[0m\u001b[1;33m(\u001b[0m\u001b[0mresults\u001b[0m\u001b[1;33m)\u001b[0m\u001b[1;33m\u001b[0m\u001b[1;33m\u001b[0m\u001b[0m\n\u001b[0;32m      2\u001b[0m \u001b[1;32mfor\u001b[0m \u001b[0mi\u001b[0m \u001b[1;32min\u001b[0m \u001b[0mrange\u001b[0m\u001b[1;33m(\u001b[0m\u001b[1;36m100\u001b[0m\u001b[1;33m)\u001b[0m\u001b[1;33m:\u001b[0m\u001b[1;33m\u001b[0m\u001b[1;33m\u001b[0m\u001b[0m\n\u001b[1;32m----> 3\u001b[1;33m     \u001b[0mword\u001b[0m\u001b[1;33m,\u001b[0m \u001b[0mcount\u001b[0m \u001b[1;33m=\u001b[0m \u001b[0mitems\u001b[0m\u001b[1;33m[\u001b[0m\u001b[0mi\u001b[0m\u001b[1;33m]\u001b[0m\u001b[1;33m\u001b[0m\u001b[1;33m\u001b[0m\u001b[0m\n\u001b[0m\u001b[0;32m      4\u001b[0m     \u001b[0mTfIdf\u001b[0m\u001b[1;33m(\u001b[0m\u001b[0mcount\u001b[0m\u001b[1;33m[\u001b[0m\u001b[0mi\u001b[0m\u001b[1;33m]\u001b[0m\u001b[1;33m,\u001b[0m \u001b[0mtotalVolcabulary\u001b[0m\u001b[1;33m,\u001b[0m \u001b[0mreadlineCounter\u001b[0m\u001b[1;33m,\u001b[0m \u001b[0mtotalAppear\u001b[0m\u001b[1;33m)\u001b[0m\u001b[1;33m\u001b[0m\u001b[1;33m\u001b[0m\u001b[0m\n\u001b[0;32m      5\u001b[0m \u001b[1;33m\u001b[0m\u001b[0m\n",
      "\u001b[1;31mTypeError\u001b[0m: 'int' object is not subscriptable"
     ]
    }
   ],
   "source": [
    "\r\n",
    "    totalVolcabulary = len(results)\r\n",
    "    for i in range(100):\r\n",
    "        word, count = items[i]\r\n",
    "        TfIdf(count[i], totalVolcabulary, readlineCounter, totalAppear)\r\n",
    "    "
   ]
  },
  {
   "cell_type": "code",
   "execution_count": null,
   "metadata": {},
   "outputs": [],
   "source": [
    "TfIdfList = []\r\n",
    "def TfIdf(appearCounter, totalVolcabulary, totalArtical, totalAppear):\r\n",
    "    t = totalVolcabulary\r\n",
    "    t = 1/t\r\n",
    "    tf = t*totalVolcabulary\r\n",
    "    idf = math.log(totalArtical/appearCounter)\r\n",
    "    tfidf = tf*idf\r\n",
    "    TfIdfList.append(tfidf)\r\n",
    "\r\n",
    "    plt.bar(wordList, TfIdfList)\r\n",
    "    plt.show()\r\n"
   ]
  },
  {
   "cell_type": "code",
   "execution_count": null,
   "metadata": {},
   "outputs": [],
   "source": []
  }
 ],
 "metadata": {
  "interpreter": {
   "hash": "29dc285e4d70f6c16ebdeac91f48d4d71129db85c7f69c84447cdceb283d8749"
  },
  "kernelspec": {
   "display_name": "Python 3.9.5 64-bit",
   "name": "python3"
  },
  "language_info": {
   "name": "python",
   "version": ""
  },
  "orig_nbformat": 4
 },
 "nbformat": 4,
 "nbformat_minor": 2
}