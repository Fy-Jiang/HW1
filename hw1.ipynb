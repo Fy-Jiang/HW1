{
 "cells": [
  {
   "cell_type": "code",
   "execution_count": 71,
   "metadata": {},
   "outputs": [],
   "source": [
    "#coding : UTF-8\r\n",
    "import os, jieba\r\n",
    "import numpy as np\r\n",
    "import matplotlib.pyplot as plt\r\n",
    "import math\r\n",
    "\r\n",
    "plt.rcParams['font.sans-serif']=['Microsoft JhengHei'] #用来正常显示中文标签\r\n",
    "plt.rcParams['axes.unicode_minus']=False #用来正常显示负号\r\n",
    "PATH = \"texts.txt\"\r\n",
    "results = {}\r\n",
    "totalAppear = 0\r\n",
    "items = []\r\n",
    "wordList = []  \r\n",
    "countList = []    \r\n",
    "readlineCounter = 0"
   ]
  },
  {
   "cell_type": "code",
   "execution_count": 72,
   "metadata": {},
   "outputs": [],
   "source": [
    "\r\n",
    "def FrequencyAndTfIdf():\r\n",
    "    with open(file = PATH, mode = \"r\", encoding = \"UTF-8\") as file : \r\n",
    "        data = file.readline()\r\n",
    "        readlineCounter + 1\r\n",
    "        while data: \r\n",
    "            words = jieba.lcut(data)\r\n",
    "            for word in words:\r\n",
    "                if len(word)==1:\r\n",
    "                    continue\r\n",
    "                else:\r\n",
    "                    results[word] = results.get(word, 0)+1\r\n",
    "            data = file.readline()\r\n",
    "    items = list(results.items())\r\n",
    "    items.sort(key = lambda x : x[1], reverse=True)\r\n",
    "\r\n",
    "    for i in range(100):\r\n",
    "        word, count = items[i]\r\n",
    "        wordList.append(word)\r\n",
    "        countList.append(count)\r\n",
    "\r\n",
    "    yPos = np.arange(len(wordList))\r\n",
    "    plt.xticks(yPos, wordList)\r\n",
    "    plt.bar(wordList, countList)\r\n",
    "    plt.show()\r\n",
    "\r\n",
    "\r\n"
   ]
  },
  {
   "cell_type": "code",
   "execution_count": 73,
   "metadata": {},
   "outputs": [],
   "source": [
    "\r\n",
    "def TfIdf():\r\n",
    "    TfIdfList = []\r\n",
    "    totalVolcabulary = len(results)\r\n",
    "    for i in range(100):\r\n",
    "        appearCounter = countList[i]\r\n",
    "        t = totalVolcabulary\r\n",
    "        t = 1/t\r\n",
    "        tf = t*totalVolcabulary\r\n",
    "        x = readlineCounter/appearCounter\r\n",
    "        idf = math.log(x)\r\n",
    "        tfidf = tf*idf\r\n",
    "        TfIdfList.append(tfidf)\r\n",
    "    plt.bar(wordList, TfIdfList)\r\n",
    "    plt.show()\r\n"
   ]
  },
  {
   "cell_type": "code",
   "execution_count": 74,
   "metadata": {},
   "outputs": [
    {
     "data": {
      "image/png": "[encoded data removed]",
      "text/plain": [
       "<Figure size 432x288 with 1 Axes>"
      ]
     },
     "metadata": {
      "needs_background": "light"
     },
     "output_type": "display_data"
    },
    {
     "ename": "ValueError",
     "evalue": "math domain error",
     "output_type": "error",
     "traceback": [
      "\u001b[1;31m---------------------------------------------------------------------------\u001b[0m",
      "\u001b[1;31mValueError\u001b[0m                                Traceback (most recent call last)",
      "\u001b[1;32m~\\AppData\\Local\\Temp/ipykernel_7112/3030797607.py\u001b[0m in \u001b[0;36m<module>\u001b[1;34m\u001b[0m\n\u001b[0;32m      1\u001b[0m \u001b[0mFrequencyAndTfIdf\u001b[0m\u001b[1;33m(\u001b[0m\u001b[1;33m)\u001b[0m\u001b[1;33m\u001b[0m\u001b[1;33m\u001b[0m\u001b[0m\n\u001b[1;32m----> 2\u001b[1;33m \u001b[0mTfIdf\u001b[0m\u001b[1;33m(\u001b[0m\u001b[1;33m)\u001b[0m\u001b[1;33m\u001b[0m\u001b[1;33m\u001b[0m\u001b[0m\n\u001b[0m",
      "\u001b[1;32m~\\AppData\\Local\\Temp/ipykernel_7112/2326320635.py\u001b[0m in \u001b[0;36mTfIdf\u001b[1;34m()\u001b[0m\n\u001b[0;32m      8\u001b[0m         \u001b[0mtf\u001b[0m \u001b[1;33m=\u001b[0m \u001b[0mt\u001b[0m\u001b[1;33m*\u001b[0m\u001b[0mtotalVolcabulary\u001b[0m\u001b[1;33m\u001b[0m\u001b[1;33m\u001b[0m\u001b[0m\n\u001b[0;32m      9\u001b[0m         \u001b[0mx\u001b[0m \u001b[1;33m=\u001b[0m \u001b[0mreadlineCounter\u001b[0m\u001b[1;33m/\u001b[0m\u001b[0mappearCounter\u001b[0m\u001b[1;33m\u001b[0m\u001b[1;33m\u001b[0m\u001b[0m\n\u001b[1;32m---> 10\u001b[1;33m         \u001b[0midf\u001b[0m \u001b[1;33m=\u001b[0m \u001b[0mmath\u001b[0m\u001b[1;33m.\u001b[0m\u001b[0mlog\u001b[0m\u001b[1;33m(\u001b[0m\u001b[0mx\u001b[0m\u001b[1;33m)\u001b[0m\u001b[1;33m\u001b[0m\u001b[1;33m\u001b[0m\u001b[0m\n\u001b[0m\u001b[0;32m     11\u001b[0m         \u001b[0mtfidf\u001b[0m \u001b[1;33m=\u001b[0m \u001b[0mtf\u001b[0m\u001b[1;33m*\u001b[0m\u001b[0midf\u001b[0m\u001b[1;33m\u001b[0m\u001b[1;33m\u001b[0m\u001b[0m\n\u001b[0;32m     12\u001b[0m         \u001b[0mTfIdfList\u001b[0m\u001b[1;33m.\u001b[0m\u001b[0mappend\u001b[0m\u001b[1;33m(\u001b[0m\u001b[0mtfidf\u001b[0m\u001b[1;33m)\u001b[0m\u001b[1;33m\u001b[0m\u001b[1;33m\u001b[0m\u001b[0m\n",
      "\u001b[1;31mValueError\u001b[0m: math domain error"
     ]
    }
   ],
   "source": [
    "FrequencyAndTfIdf()\r\n",
    "TfIdf()"
   ]
  }
 ],
 "metadata": {
  "interpreter": {
   "hash": "29dc285e4d70f6c16ebdeac91f48d4d71129db85c7f69c84447cdceb283d8749"
  },
  "kernelspec": {
   "display_name": "Python 3.9.5 64-bit",
   "name": "python3"
  },
  "language_info": {
   "name": "python",
   "version": ""
  },
  "orig_nbformat": 4
 },
 "nbformat": 4,
 "nbformat_minor": 2
}