{
 "cells": [
  {
   "cell_type": "code",
   "execution_count": null,
   "metadata": {},
   "outputs": [],
   "source": [
    "#coding : UTF-8\r\n",
    "import os, jieba\r\n",
    "import numpy as np\r\n",
    "import matplotlib.pyplot as plt\r\n",
    "\r\n",
    "plt.rcParams['font.sans-serif']=['Microsoft JhengHei'] #用来正常显示中文标签\r\n",
    "plt.rcParams['axes.unicode_minus']=False #用来正常显示负号\r\n",
    "PATH = \"texts.txt\""
   ]
  },
  {
   "cell_type": "code",
   "execution_count": null,
   "metadata": {},
   "outputs": [],
   "source": [
    "def FrequencyAndTfIdf():\r\n",
    "\r\n",
    "    readlineCounter = 0\r\n",
    "\r\n",
    "    results = {}\r\n",
    "    with open(file = PATH, mode = \"r\", encoding = \"UTF-8\") as file : \r\n",
    "        data = file.readline()\r\n",
    "        readlineCounter += 1\r\n",
    "        while data: \r\n",
    "            words = jieba.lcut(data)\r\n",
    "            for word in words:\r\n",
    "                if len(word)==1:\r\n",
    "                    continue\r\n",
    "                else:\r\n",
    "                    results[word] = results.get(word, 0)+1\r\n",
    "            data = file.readline()\r\n",
    "    items = list(results.items())\r\n",
    "    items.sort(key = lambda x : x[1], reverse=True)\r\n",
    "\r\n",
    "    wordList = []\r\n",
    "    countList = []\r\n",
    "\r\n",
    "    for i in range(100):\r\n",
    "        word, count = items[i]\r\n",
    "        wordList.append(word)\r\n",
    "        countList.append(count)\r\n",
    "\r\n",
    "    yPos = np.arange(len(wordList))\r\n",
    "    plt.xticks(yPos, wordList)\r\n",
    "    plt.bar(wordList, countList)\r\n",
    "    plt.show()\r\n",
    "\r\n",
    "    "
   ]
  },
  {
   "cell_type": "code",
   "execution_count": null,
   "metadata": {},
   "outputs": [],
   "source": [
    "\r\n",
    "    totalVolcabulary = len(results)\r\n",
    "    totalArtical = readlineCounter\r\n",
    "    for i in range(100):\r\n",
    "        word, count = items[i]\r\n",
    "        TfIdf(count[i], totalVolcabulary, totalArtical,)\r\n",
    "        \r\n",
    "    \r\n",
    "\r\n"
   ]
  },
  {
   "cell_type": "code",
   "execution_count": null,
   "metadata": {},
   "outputs": [],
   "source": [
    "def TfIdf(appearCounter, totalVolcabulary, totalArtical, totalAppear):"
   ]
  },
  {
   "cell_type": "code",
   "execution_count": 1,
   "metadata": {},
   "outputs": [
    {
     "ename": "NameError",
     "evalue": "name 'main' is not defined",
     "output_type": "error",
     "traceback": [
      "\u001b[1;31m---------------------------------------------------------------------------\u001b[0m",
      "\u001b[1;31mNameError\u001b[0m                                 Traceback (most recent call last)",
      "\u001b[1;32m~\\AppData\\Local\\Temp/ipykernel_11476/451043146.py\u001b[0m in \u001b[0;36m<module>\u001b[1;34m\u001b[0m\n\u001b[1;32m----> 1\u001b[1;33m \u001b[0mmain\u001b[0m\u001b[1;33m(\u001b[0m\u001b[1;33m)\u001b[0m\u001b[1;33m\u001b[0m\u001b[1;33m\u001b[0m\u001b[0m\n\u001b[0m",
      "\u001b[1;31mNameError\u001b[0m: name 'main' is not defined"
     ]
    }
   ],
   "source": [
    "FrequencyAndTfIdf()"
   ]
  }
 ],
 "metadata": {
  "interpreter": {
   "hash": "29dc285e4d70f6c16ebdeac91f48d4d71129db85c7f69c84447cdceb283d8749"
  },
  "kernelspec": {
   "display_name": "Python 3.9.5 64-bit",
   "name": "python3"
  },
  "language_info": {
   "codemirror_mode": {
    "name": "ipython",
    "version": 3
   },
   "file_extension": ".py",
   "mimetype": "text/x-python",
   "name": "python",
   "nbconvert_exporter": "python",
   "pygments_lexer": "ipython3",
   "version": "3.9.5"
  },
  "orig_nbformat": 4
 },
 "nbformat": 4,
 "nbformat_minor": 2
}